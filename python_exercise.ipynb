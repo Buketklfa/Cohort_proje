{
  "cells": [
    {
      "cell_type": "markdown",
      "metadata": {
        "id": "view-in-github",
        "colab_type": "text"
      },
      "source": [
        "<a href=\"https://colab.research.google.com/github/Buketklfa/Cohort_proje/blob/main/python_exercise.ipynb\" target=\"_parent\"><img src=\"https://colab.research.google.com/assets/colab-badge.svg\" alt=\"Open In Colab\"/></a>"
      ]
    },
    {
      "cell_type": "code",
      "execution_count": null,
      "metadata": {
        "colab": {
          "base_uri": "https://localhost:8080/"
        },
        "id": "qSRShXKtP44P",
        "outputId": "13799ed0-cebc-4b62-8e6e-dde10f7db3f9"
      },
      "outputs": [
        {
          "data": {
            "text/plain": [
              "float"
            ]
          },
          "execution_count": 1,
          "metadata": {},
          "output_type": "execute_result"
        }
      ],
      "source": [
        "type(5.1)"
      ]
    },
    {
      "cell_type": "code",
      "execution_count": null,
      "metadata": {
        "colab": {
          "base_uri": "https://localhost:8080/"
        },
        "id": "RNNZpdYGQFz7",
        "outputId": "ef699fa6-c701-4a89-9451-7352fd8c0f09"
      },
      "outputs": [
        {
          "name": "stdout",
          "output_type": "stream",
          "text": [
            "\n",
            "Welcome to Python 3.10's help utility!\n",
            "\n",
            "If this is your first time using Python, you should definitely check out\n",
            "the tutorial on the internet at https://docs.python.org/3.10/tutorial/.\n",
            "\n",
            "Enter the name of any module, keyword, or topic to get help on writing\n",
            "Python programs and using Python modules.  To quit this help utility and\n",
            "return to the interpreter, just type \"quit\".\n",
            "\n",
            "To get a list of available modules, keywords, symbols, or topics, type\n",
            "\"modules\", \"keywords\", \"symbols\", or \"topics\".  Each module also comes\n",
            "with a one-line summary of what it does; to list the modules whose name\n",
            "or summary contain a given string such as \"spam\", type \"modules spam\".\n",
            "\n",
            "\n",
            "You are now leaving help and returning to the Python interpreter.\n",
            "If you want to ask for help on a particular object directly from the\n",
            "interpreter, you can type \"help(object)\".  Executing \"help('string')\"\n",
            "has the same effect as typing a particular string at the help> prompt.\n"
          ]
        }
      ],
      "source": [
        "help()"
      ]
    },
    {
      "cell_type": "code",
      "execution_count": null,
      "metadata": {
        "colab": {
          "base_uri": "https://localhost:8080/",
          "height": 35
        },
        "id": "zd4s9qpuQMfk",
        "outputId": "af06f704-ad39-4823-c4d7-2592d552a74c"
      },
      "outputs": [
        {
          "data": {
            "application/vnd.google.colaboratory.intrinsic+json": {
              "type": "string"
            },
            "text/plain": [
              "'\\n  block \\n  comment\\n'"
            ]
          },
          "execution_count": 5,
          "metadata": {},
          "output_type": "execute_result"
        }
      ],
      "source": [
        "# line comment\n",
        "\"\"\"\n",
        "  block\n",
        "  comment\n",
        "\"\"\"\n",
        "\n",
        "# interactive terminal \"_\""
      ]
    },
    {
      "cell_type": "code",
      "execution_count": null,
      "metadata": {
        "colab": {
          "base_uri": "https://localhost:8080/"
        },
        "id": "Zx6Pw3gwQReD",
        "outputId": "07b97258-93e8-4ce6-a5f5-546db468a1b9"
      },
      "outputs": [
        {
          "name": "stdout",
          "output_type": "stream",
          "text": [
            "Enter a valuedeneme\n",
            "The value deneme\n"
          ]
        }
      ],
      "source": [
        "take_a_value = input('Enter a value')\n",
        "print(\"The value\", take_a_value)"
      ]
    },
    {
      "cell_type": "code",
      "execution_count": null,
      "metadata": {
        "colab": {
          "base_uri": "https://localhost:8080/"
        },
        "id": "DBsl_OCgQ2OK",
        "outputId": "ad082bd2-99dc-4a5d-e456-b69e7172fc33"
      },
      "outputs": [
        {
          "name": "stdout",
          "output_type": "stream",
          "text": [
            "The line continuation character for long strings\n"
          ]
        }
      ],
      "source": [
        "print(\"The line continuation character for \\\n",
        "long strings\")"
      ]
    },
    {
      "cell_type": "code",
      "execution_count": null,
      "metadata": {
        "colab": {
          "base_uri": "https://localhost:8080/"
        },
        "id": "LEIbk2-eR4TM",
        "outputId": "5dad1235-623b-4ab1-c2ec-af90a4c00445"
      },
      "outputs": [
        {
          "name": "stdout",
          "output_type": "stream",
          "text": [
            "empty, 0, None, False\n",
            "non empty, non zero, exist, True\n"
          ]
        }
      ],
      "source": [
        "\n",
        "a = '' # empty strings\n",
        "b = 0\n",
        "c = False\n",
        "# also None\n",
        "\n",
        "d = (5,2) #tuple, list and other non empty containers\n",
        "e = [3, 4, \"deneme\"]\n",
        "f = True  # True values\n",
        "g = 1 #non zero values\n",
        "h = 'non empty' # non empty strings\n",
        "\n",
        "if(a and b and c and None):\n",
        "  print(\"it not gonna happen\")\n",
        "else:\n",
        "  print(\"empty, 0, None, False\") #works\n",
        "\n",
        "if(d and e and f and g and h):\n",
        "  print(\"non empty, non zero, exist, True\") #works\n",
        "else:\n",
        "  print(\"NEVER EVER\")\n"
      ]
    },
    {
      "cell_type": "code",
      "execution_count": null,
      "metadata": {
        "colab": {
          "base_uri": "https://localhost:8080/"
        },
        "id": "e4HWNs44U8MJ",
        "outputId": "0c54733d-b9a4-456d-ecc9-2d0fb3cfe6b5"
      },
      "outputs": [
        {
          "name": "stdout",
          "output_type": "stream",
          "text": [
            "The first round: 1.82\n",
            "The second round: 1.815\n"
          ]
        }
      ],
      "source": [
        "print(\"The first round:\", round(1.8155623, 2 ))\n",
        "\n",
        "print(\"The second round:\", round(1.815123, 3 ))"
      ]
    },
    {
      "cell_type": "code",
      "execution_count": null,
      "metadata": {
        "colab": {
          "base_uri": "https://localhost:8080/"
        },
        "id": "_kBS4xdnVwPH",
        "outputId": "bc2fc864-69e4-4841-8d00-9a971da4d101"
      },
      "outputs": [
        {
          "name": "stdout",
          "output_type": "stream",
          "text": [
            "400.0\n"
          ]
        }
      ],
      "source": [
        "print(4e2)"
      ]
    },
    {
      "cell_type": "code",
      "execution_count": null,
      "metadata": {
        "id": "nW3UNULjV2Fo"
      },
      "outputs": [],
      "source": [
        "#python primatives\n",
        "\"\"\"\n",
        "- numbers\n",
        "- strings\n",
        "\"\"\"\n",
        "\n",
        "# python 4 types of number\n",
        "\"\"\"\n",
        "- booleans\n",
        "- integers\n",
        "- floating point\n",
        "- complex (imaginery)\n",
        "\"\"\""
      ]
    },
    {
      "cell_type": "code",
      "execution_count": null,
      "metadata": {
        "colab": {
          "base_uri": "https://localhost:8080/"
        },
        "id": "B30UHvLhWY4n",
        "outputId": "654fb23a-a750-4993-bd15-ad7786bd1d93"
      },
      "outputs": [
        {
          "name": "stdout",
          "output_type": "stream",
          "text": [
            "classic division 5/4: 1.25\n",
            "floor division 5//4: 1\n"
          ]
        }
      ],
      "source": [
        "print(\"classic division 5/4:\", 5/4)\n",
        "\n",
        "print(\"floor division 5//4:\", 5//4)"
      ]
    },
    {
      "cell_type": "code",
      "execution_count": null,
      "metadata": {
        "colab": {
          "base_uri": "https://localhost:8080/"
        },
        "id": "hcCiebzkWpFN",
        "outputId": "41908c7a-d719-4f0e-ee3d-81b5c250a70d"
      },
      "outputs": [
        {
          "name": "stdout",
          "output_type": "stream",
          "text": [
            "Modulo (remainder 17 % 3: 2\n"
          ]
        }
      ],
      "source": [
        "print(\"Modulo (remainder 17 % 3:\", 17 % 3 )"
      ]
    },
    {
      "cell_type": "code",
      "execution_count": null,
      "metadata": {
        "colab": {
          "base_uri": "https://localhost:8080/"
        },
        "id": "sImgnpy_W528",
        "outputId": "35885494-da08-46a9-d05c-d1b20d2f4822"
      },
      "outputs": [
        {
          "name": "stdout",
          "output_type": "stream",
          "text": [
            "Power operant ** =>  x is 5 => x**3: 125\n"
          ]
        }
      ],
      "source": [
        "x = 5\n",
        "print(\"Power operant ** =>  x is 5 => x**3:\", x**3 )"
      ]
    },
    {
      "cell_type": "code",
      "execution_count": null,
      "metadata": {
        "colab": {
          "base_uri": "https://localhost:8080/"
        },
        "id": "bV2Hw2MlXdHY",
        "outputId": "f3db0a2f-e326-4bff-d537-d8b69e6880ee"
      },
      "outputs": [
        {
          "name": "stdout",
          "output_type": "stream",
          "text": [
            "Power modulo function (x ** y) % z => pow(x,y,[z]) => power(x,y,z) 12\n",
            "32\n"
          ]
        }
      ],
      "source": [
        "x = 2\n",
        "y = 5\n",
        "z = 20\n",
        "# [z] => z is optional\n",
        "print(\"Power modulo function (x ** y) % z => pow(x,y,[z]) => power(x,y,z)\", pow(x,y,z) )\n",
        "print(pow(x,y))"
      ]
    },
    {
      "cell_type": "code",
      "execution_count": null,
      "metadata": {
        "colab": {
          "base_uri": "https://localhost:8080/"
        },
        "id": "xcpamFa7YcYZ",
        "outputId": "6d2621db-4d31-40cd-b230-96e486a83cde"
      },
      "outputs": [
        {
          "name": "stdout",
          "output_type": "stream",
          "text": [
            "divmod function tuple(x//y, x%y) = divmod(x,y)  (5, 2)\n"
          ]
        }
      ],
      "source": [
        "x = 17\n",
        "y = 3\n",
        "print(\"divmod function tuple(x//y, x%y) = divmod(x,y) \", divmod(x,y) )"
      ]
    },
    {
      "cell_type": "code",
      "execution_count": null,
      "metadata": {
        "colab": {
          "base_uri": "https://localhost:8080/"
        },
        "id": "WQkXqJSwY8j6",
        "outputId": "ab9cce75-71b2-4b1b-d6e7-324ed8a730c3"
      },
      "outputs": [
        {
          "name": "stdout",
          "output_type": "stream",
          "text": [
            "sqrt: 8.0\n",
            "sin and radians: 1.0\n",
            "\n",
            "log: 5.0\n",
            "default log and e: 2.0 \n",
            "\n",
            "14\n",
            "735.0\n"
          ]
        }
      ],
      "source": [
        "import math\n",
        "\n",
        "print(\"sqrt:\", math.sqrt(64))\n",
        "print(\"sin and radians:\", math.sin(math.radians(90)))\n",
        "\n",
        "print()\n",
        "\n",
        "print(\"log:\", math.log(32, 2))\n",
        "print(\"default log and e:\", math.log(math.e ** 2), \"\\n\") #new line character\n",
        "\n",
        "print(int(14.8))\n",
        "print(float(735))"
      ]
    },
    {
      "cell_type": "code",
      "execution_count": null,
      "metadata": {
        "colab": {
          "base_uri": "https://localhost:8080/"
        },
        "id": "jvR8IqfabF3t",
        "outputId": "e1648d05-cbea-4b6b-ff24-40c8d2c6dc4f"
      },
      "outputs": [
        {
          "name": "stdout",
          "output_type": "stream",
          "text": [
            "12\n",
            "!\n",
            "d\n",
            "llo world!\n",
            "!dlrow olleH\n",
            "Hlowrd\n",
            "!lo le\n",
            "state 1\n",
            "state 3\n"
          ]
        }
      ],
      "source": [
        "a = \"Hello world!\"\n",
        "\n",
        "print(len(a))\n",
        "\n",
        "b = a[-1] #last character of string\n",
        "c = a[-2] #second character at the end of the string\n",
        "\n",
        "print(b)\n",
        "print(c)\n",
        "\n",
        "#slicing, substrings\n",
        "d = a[2:len(a)] # start to end\n",
        "e = a[::-1]\n",
        "f = a[::2]\n",
        "g = a[::-2]\n",
        "\n",
        "print(d)\n",
        "print(e)\n",
        "print(f)\n",
        "print(g)\n",
        "\n",
        "if \"H\" in a:\n",
        "  print(\"state 1\")\n",
        "else:\n",
        "  print(\"state 2\")\n",
        "\n",
        "if \"!\" not in a:\n",
        "  pass\n",
        "else:\n",
        "  print(\"state 3\")"
      ]
    },
    {
      "cell_type": "code",
      "execution_count": null,
      "metadata": {
        "colab": {
          "base_uri": "https://localhost:8080/"
        },
        "id": "GuS2dIQ5dy2P",
        "outputId": "01e93fdd-5179-4be8-8786-f84cc16baf20"
      },
      "outputs": [
        {
          "name": "stdout",
          "output_type": "stream",
          "text": [
            "<class 'int'>\n",
            "47\n",
            "<class 'str'>\n",
            "425\n"
          ]
        }
      ],
      "source": [
        "x = 42\n",
        "print(type(x))\n",
        "\n",
        "print(x + 5)\n",
        "\n",
        "a = str(x)\n",
        "print(type(a))\n",
        "\n",
        "print(a + str(5))"
      ]
    },
    {
      "cell_type": "code",
      "execution_count": null,
      "metadata": {
        "colab": {
          "base_uri": "https://localhost:8080/"
        },
        "id": "49M_UzluzYKo",
        "outputId": "c8b6389f-9f77-4541-c43d-7e1448b9e494"
      },
      "outputs": [
        {
          "name": "stdout",
          "output_type": "stream",
          "text": [
            "['a', 'b', 'c', 'a', 'b', 'c', 'a', 'b', 'c']\n",
            "['a', 'b', 'c', 1, 2]\n"
          ]
        }
      ],
      "source": [
        "s = [\"a\", \"b\", \"c\"]\n",
        "n = [1, 2]\n",
        "\n",
        "print(s * 3)\n",
        "\n",
        "print(s + n)"
      ]
    },
    {
      "cell_type": "code",
      "execution_count": null,
      "metadata": {
        "colab": {
          "base_uri": "https://localhost:8080/"
        },
        "id": "Jk5Z5pxFjPzv",
        "outputId": "98506d3b-e1c8-459f-9c9a-dbbebdb79848"
      },
      "outputs": [
        {
          "name": "stdout",
          "output_type": "stream",
          "text": [
            "alice\n",
            "jabbar\n",
            "doe\n",
            "emmy\n",
            "john\n",
            "muffafa\n",
            "5\n"
          ]
        }
      ],
      "source": [
        "names = [\"alice\",\"john\", \"doe\", \"muffafa\", \"zehra\"]\n",
        "names.append(\"emmy\")\n",
        "del names[len(names) - 2] #delete with index\n",
        "names.sort() # sort names in alphabetical order\n",
        "names.insert(1, \"jabbar\")# insert to index\n",
        "\n",
        "for name in names:\n",
        "  print(name)\n",
        "\n",
        "print(names.index(\"muffafa\"))"
      ]
    },
    {
      "cell_type": "code",
      "execution_count": null,
      "metadata": {
        "colab": {
          "base_uri": "https://localhost:8080/"
        },
        "id": "byaUx2G6oA7L",
        "outputId": "7bb6d6cd-711d-404b-cf81-6046d9010f60"
      },
      "outputs": [
        {
          "name": "stdout",
          "output_type": "stream",
          "text": [
            "1, 4, 9, 7, 2, 3, 5\n",
            "\n",
            "lets sort it\n",
            "9 7 5 4 3 2 1\n"
          ]
        }
      ],
      "source": [
        "numbers = [1, 2, 4, 9 , 7, 2 , 3 , 5 ]\n",
        "numbers.remove(2) #remove first accurence\n",
        "\n",
        "for i in range(len(numbers) -1):\n",
        "  print(numbers[i], end =\", \")\n",
        "\n",
        "print(numbers[-1])\n",
        "\n",
        "print(\"\\nlets sort it\")\n",
        "numbers.sort(reverse = True) # sort numbers in reverse order\n",
        "\n",
        "# print whole list wiht *\n",
        "print(*numbers)"
      ]
    },
    {
      "cell_type": "code",
      "execution_count": null,
      "metadata": {
        "id": "1Q3fTnD00UXD"
      },
      "outputs": [],
      "source": [
        "#Opening a file\n",
        "f = open('foo.txt','w')\n",
        "\n",
        "#To write text to a file\n",
        "f.write('some text')\n",
        "\n",
        "#To close when you're done\n",
        "f.close()"
      ]
    },
    {
      "cell_type": "code",
      "execution_count": null,
      "metadata": {
        "colab": {
          "base_uri": "https://localhost:8080/"
        },
        "id": "m4InaLSL2HCI",
        "outputId": "f97559a2-d288-4cc2-b226-5ac507c07ad2"
      },
      "outputs": [
        {
          "name": "stdout",
          "output_type": "stream",
          "text": [
            "some text\n"
          ]
        }
      ],
      "source": [
        "\n",
        "g = open('foo.txt','r')\n",
        "\n",
        "#To read data\n",
        "data = g.read()\n",
        "\n",
        "print(data)\n",
        "\n",
        "g.close()"
      ]
    },
    {
      "cell_type": "code",
      "execution_count": null,
      "metadata": {
        "colab": {
          "base_uri": "https://localhost:8080/"
        },
        "id": "-s9uzOqj2m5L",
        "outputId": "d80f9f16-bda1-45a6-fa7c-a1b7cbbb6dc7"
      },
      "outputs": [
        {
          "name": "stdout",
          "output_type": "stream",
          "text": [
            "some text\n"
          ]
        }
      ],
      "source": [
        "# python 2.6+\n",
        "#This automatically closes the file when control leaves the indented code block\n",
        "with open('foo.txt', 'r') as f:\n",
        "  message = f.read()\n",
        "\n",
        "print(message)"
      ]
    },
    {
      "cell_type": "code",
      "execution_count": null,
      "metadata": {
        "colab": {
          "base_uri": "https://localhost:8080/"
        },
        "id": "w-50zjqm3iU0",
        "outputId": "367b3e17-37c1-4885-f2b3-7df485a90fbf"
      },
      "outputs": [
        {
          "name": "stdout",
          "output_type": "stream",
          "text": [
            "some text\n",
            "['some', 'text']\n",
            "Couldn't parse some text\n"
          ]
        }
      ],
      "source": [
        "with open('foo.txt', 'r') as f:\n",
        "  for line in f:\n",
        "    print(line)\n",
        "    fields = line.split()\n",
        "    print(fields)\n",
        "    try:\n",
        "      shares = int(fields[1])\n",
        "    except ValueError:print (\"Couldn't parse\", line)"
      ]
    },
    {
      "cell_type": "code",
      "execution_count": null,
      "metadata": {
        "colab": {
          "base_uri": "https://localhost:8080/"
        },
        "id": "3SjYZuiw5cWv",
        "outputId": "9b60fa72-de55-4050-9635-31ed0456fc2a"
      },
      "outputs": [
        {
          "name": "stdout",
          "output_type": "stream",
          "text": [
            "('GOOG', 100, 490.1)\n",
            "('TESL', 20, 285.3)\n",
            "()\n"
          ]
        }
      ],
      "source": [
        "#tuple\n",
        "# single row in a database\n",
        "\n",
        "s = ('GOOG', 100, 490.1)\n",
        "#or\n",
        "n =  'TESL', 20, 285.3\n",
        "#empty tuple\n",
        "t = ()\n",
        "\n",
        "print(s)\n",
        "print(n)\n",
        "print(t)"
      ]
    },
    {
      "cell_type": "code",
      "execution_count": null,
      "metadata": {
        "colab": {
          "base_uri": "https://localhost:8080/"
        },
        "id": "mdubFfAJ5yY9",
        "outputId": "d61d772a-94a9-4d6a-a286-123940b67ea8"
      },
      "outputs": [
        {
          "name": "stdout",
          "output_type": "stream",
          "text": [
            "GOOG 100 490.1\n"
          ]
        }
      ],
      "source": [
        "name = s[0] # 'GOOG'\n",
        "shares = s[1] # 100\n",
        "price = s[2] # 490.1\n",
        "\n",
        "print (name, shares, price)"
      ]
    },
    {
      "cell_type": "code",
      "execution_count": null,
      "metadata": {
        "colab": {
          "base_uri": "https://localhost:8080/",
          "height": 197
        },
        "id": "a8xlTdcW6WSB",
        "outputId": "ee824681-18a5-4ffd-8fb0-abedfe067ad0"
      },
      "outputs": [
        {
          "ename": "TypeError",
          "evalue": "'tuple' object does not support item assignment",
          "output_type": "error",
          "traceback": [
            "\u001b[0;31m---------------------------------------------------------------------------\u001b[0m",
            "\u001b[0;31mTypeError\u001b[0m                                 Traceback (most recent call last)",
            "\u001b[0;32m<ipython-input-178-3284933dece3>\u001b[0m in \u001b[0;36m<cell line: 2>\u001b[0;34m()\u001b[0m\n\u001b[1;32m      1\u001b[0m \u001b[0;31m#However, the contents can't be modified.\u001b[0m\u001b[0;34m\u001b[0m\u001b[0;34m\u001b[0m\u001b[0m\n\u001b[0;32m----> 2\u001b[0;31m \u001b[0ms\u001b[0m\u001b[0;34m[\u001b[0m\u001b[0;36m1\u001b[0m\u001b[0;34m]\u001b[0m \u001b[0;34m=\u001b[0m \u001b[0;36m75\u001b[0m\u001b[0;34m\u001b[0m\u001b[0;34m\u001b[0m\u001b[0m\n\u001b[0m",
            "\u001b[0;31mTypeError\u001b[0m: 'tuple' object does not support item assignment"
          ]
        }
      ],
      "source": [
        "#However, the contents can't be modified.\n",
        "s[1] = 75"
      ]
    },
    {
      "cell_type": "code",
      "execution_count": null,
      "metadata": {
        "colab": {
          "base_uri": "https://localhost:8080/"
        },
        "id": "D8vbmIbY6qOU",
        "outputId": "f861f251-ae7a-4c4c-fd7c-8356a17abda8"
      },
      "outputs": [
        {
          "name": "stdout",
          "output_type": "stream",
          "text": [
            "('GOOG', 75, 490.1)\n"
          ]
        }
      ],
      "source": [
        "#You can, however, make a new tuple based on a current tuple\n",
        "s = (s[0], 75, s[2])\n",
        "print(s)"
      ]
    },
    {
      "cell_type": "code",
      "execution_count": null,
      "metadata": {
        "colab": {
          "base_uri": "https://localhost:8080/"
        },
        "id": "cW78R5kD6uGv",
        "outputId": "1d3ef0f7-0632-4734-d84e-b87a80de9970"
      },
      "outputs": [
        {
          "name": "stdout",
          "output_type": "stream",
          "text": [
            "Cost 36757.5\n"
          ]
        }
      ],
      "source": [
        "#tuple unpacking\n",
        "\n",
        "name, shares, price = s\n",
        "\n",
        "print('Cost', shares * price)"
      ]
    },
    {
      "cell_type": "code",
      "execution_count": null,
      "metadata": {
        "colab": {
          "base_uri": "https://localhost:8080/"
        },
        "id": "-ekzQYF06-10",
        "outputId": "d5cea8a3-0b09-4644-b734-ae6b9b0f4c77"
      },
      "outputs": [
        {
          "name": "stdout",
          "output_type": "stream",
          "text": [
            "GOOG\n",
            "75 6/6/2007\n"
          ]
        }
      ],
      "source": [
        "#dictioary\n",
        "#A dictionary is mapping of keys to values.\n",
        "#A hash table or associative array.\n",
        "\n",
        "s = {'name': 'GOOG',\n",
        "     'shares': 100,\n",
        "     'price': 490.1}\n",
        "\n",
        "print(s[\"name\"])\n",
        "\n",
        "#Adding/modifying values :\n",
        "s['shares'] = 75\n",
        "s['date'] = '6/6/2007'\n",
        "\n",
        "print(s[\"shares\"], s[\"date\"])\n",
        "\n",
        "#deleting a value\n",
        "del s['date']"
      ]
    },
    {
      "cell_type": "code",
      "execution_count": null,
      "metadata": {
        "colab": {
          "base_uri": "https://localhost:8080/"
        },
        "id": "lgA5GCGb71Mf",
        "outputId": "13467b04-b45c-407d-978d-a2be09c6dd2f"
      },
      "outputs": [
        {
          "name": "stdout",
          "output_type": "stream",
          "text": [
            "name = GOOG\n",
            "shares = 75\n",
            "price = 490.1\n"
          ]
        }
      ],
      "source": [
        "for k in s:\n",
        "  print(k, \"=\", s[k])"
      ]
    },
    {
      "cell_type": "code",
      "execution_count": null,
      "metadata": {
        "colab": {
          "base_uri": "https://localhost:8080/"
        },
        "id": "NWcoIPWO8RTP",
        "outputId": "5576ab75-ee4f-467c-f897-cfc59d0d4c60"
      },
      "outputs": [
        {
          "name": "stdout",
          "output_type": "stream",
          "text": [
            "dict_keys(['name', 'shares', 'price'])\n",
            "dict_items([('name', 'GOOG'), ('shares', 75), ('price', 490.1)])\n"
          ]
        }
      ],
      "source": [
        "keys = s.keys()\n",
        "print(keys)\n",
        "\n",
        "items = s.items()\n",
        "print(items)"
      ]
    },
    {
      "cell_type": "code",
      "execution_count": null,
      "metadata": {
        "colab": {
          "base_uri": "https://localhost:8080/"
        },
        "id": "RkMboLSu8sOX",
        "outputId": "c2918154-4a37-474d-b0da-6f443d97ad4c"
      },
      "outputs": [
        {
          "name": "stdout",
          "output_type": "stream",
          "text": [
            "('GOOG', 100, 490.1)\n",
            "('CAT', 150, 83.44)\n"
          ]
        }
      ],
      "source": [
        "#containers\n",
        "\n",
        "\"\"\"\n",
        "- Lists (Ordered data.)\n",
        "- Dictionaries ( Unordered data)\n",
        "- Sets ( Unordered collection of unique items)\n",
        "\"\"\"\n",
        "\n",
        "portfolio = [('GOOG', 100, 490.1),('IBM', 50, 91.3),('CAT', 150, 83.44)]\n",
        "\n",
        "print(portfolio[0]) # ('GOOG', 100, 490.1)\n",
        "print(portfolio[2]) # ('CAT', 150, 83.44)"
      ]
    },
    {
      "cell_type": "code",
      "execution_count": null,
      "metadata": {
        "id": "tBPhqz0v9Jqr"
      },
      "outputs": [],
      "source": [
        "#Example: Reading records from a file\n",
        "records = [] # Initial empty list\n",
        "with open('Data/portfolio.csv', 'rt') as f:\n",
        "  next(f) # Skip header\n",
        "  for line in f:\n",
        "    row = line.split(',')\n",
        "    records.append((row[0], int(row[1]), float(row[2])))"
      ]
    },
    {
      "cell_type": "code",
      "execution_count": null,
      "metadata": {
        "colab": {
          "base_uri": "https://localhost:8080/"
        },
        "id": "5XpwPoLe9v4e",
        "outputId": "675b87ad-be3f-48ab-fdf7-9336098b7860"
      },
      "outputs": [
        {
          "name": "stdout",
          "output_type": "stream",
          "text": [
            "87.22\n"
          ]
        }
      ],
      "source": [
        "#Example of building a dict from scratch.\n",
        "prices = {} # Initial empty dict\n",
        "# Insert new items\n",
        "prices['GOOG'] = 513.25\n",
        "prices['CAT'] = 87.22\n",
        "prices['IBM'] = 93.37\n",
        "\n",
        "print(prices[\"CAT\"])\n"
      ]
    },
    {
      "cell_type": "code",
      "execution_count": null,
      "metadata": {
        "colab": {
          "base_uri": "https://localhost:8080/"
        },
        "id": "o5wkqDWQ-FB5",
        "outputId": "38590018-ad96-4e32-d155-3901a3f81cc8"
      },
      "outputs": [
        {
          "name": "stdout",
          "output_type": "stream",
          "text": [
            "93.37\n",
            "0.0\n"
          ]
        }
      ],
      "source": [
        "#Looking up a value that might not exist\n",
        "print(prices.get('IBM', 0.0))\n",
        "print(prices.get('SCOX', 0.0))"
      ]
    },
    {
      "cell_type": "code",
      "execution_count": null,
      "metadata": {
        "colab": {
          "base_uri": "https://localhost:8080/"
        },
        "id": "WxTvffWx-bM1",
        "outputId": "347961a9-ac5c-4ece-e85d-1efa62638134"
      },
      "outputs": [
        {
          "name": "stdout",
          "output_type": "stream",
          "text": [
            "{'c', 'd', 'a', 'b'}\n",
            "{'c'}\n",
            "{'a', 'b'}\n"
          ]
        }
      ],
      "source": [
        "#Sets are collection of unordered unique items.\n",
        "tech_stocks = { 'IBM','AAPL','MSFT' }\n",
        "# Alternative syntax\n",
        "tech_stocks = set(['IBM', 'AAPL', 'MSFT'])\n",
        "\n",
        "#useful for duplicate elimination\n",
        "names = ['IBM', 'AAPL', 'GOOG', 'IBM', 'GOOG', 'YHOO']\n",
        "unique = set(names)\n",
        "\n",
        "#Additional set operations:\n",
        "unique.add('CAT') # Add an item\n",
        "unique.remove('YHOO') # Remove an item\n",
        "\n",
        "s1 = { 'a', 'b', 'c'}\n",
        "s2 = { 'c', 'd' }\n",
        "\n",
        "print(s1 | s2) # Set union { 'a', 'b', 'c', 'd' }\n",
        "print(s1 & s2) # Set intersection { 'c' }\n",
        "print(s1 - s2) # Set difference { 'a', 'b'"
      ]
    },
    {
      "cell_type": "code",
      "execution_count": null,
      "metadata": {
        "colab": {
          "base_uri": "https://localhost:8080/"
        },
        "id": "RTsqfdxmP4S1",
        "outputId": "d6cb625b-df42-48a1-f964-22e1af849d17"
      },
      "outputs": [
        {
          "name": "stdout",
          "output_type": "stream",
          "text": [
            "       IBM        100      91.10\n",
            "    GOOGLE         75     431.54\n",
            "\n",
            "       IBM        100      91.10\n",
            "    GOOGLE         75     431.54\n"
          ]
        }
      ],
      "source": [
        "\"\"\"\n",
        ":>10d Int. right aligned in 10-character field\n",
        ":<10d Int. left aligned in 10-character field\n",
        ":^10d Int. centered in 10-character field\n",
        ":0.2f Float with 2 digit precision\n",
        "\"\"\"\n",
        "\n",
        "\"\"\"\n",
        "d Decimal integer\n",
        "b Binary integer\n",
        "x Hexadecimal integer\n",
        "f Float as [-]m.dddddd\n",
        "e Float as [-]m.dddddde+-xx\n",
        "g Float, but selective use of E notation\n",
        "s Stringc Character (from integer)\n",
        "\"\"\"\n",
        "\n",
        "name = 'IBM'\n",
        "shares = 100\n",
        "price = 91.1\n",
        "print(f'{name:>10s} {shares:>10d} {price:>10.2f}')\n",
        "\n",
        "name = 'GOOGLE'\n",
        "shares = 75\n",
        "price = 431.54\n",
        "print(f'{name:>10s} {shares:>10d} {price:>10.2f}')\n",
        "\n",
        "print()\n",
        "\n",
        "print('{name:>10s} {shares:10d} {price:10.2f}'.format(name='IBM', shares=100, price=91.1))\n",
        "\n",
        "print('{name:>10s} {shares:10d} {price:10.2f}'.format(name=name, shares=shares, price=price))"
      ]
    },
    {
      "cell_type": "code",
      "execution_count": null,
      "metadata": {
        "colab": {
          "base_uri": "https://localhost:8080/"
        },
        "id": "CK9TlAxRUGqR",
        "outputId": "331769d7-9009-4a00-de96-eb821f62aca2"
      },
      "outputs": [
        {
          "name": "stdout",
          "output_type": "stream",
          "text": [
            "The value is 3\n",
            "    3 4              5\n",
            "3.14\n"
          ]
        }
      ],
      "source": [
        "#Formatting operator (%)\n",
        "print('The value is %d' % 3)\n",
        "print('%5d %-5d %10d' % (3,4,5))\n",
        "print('%0.2f' % (3.1415926,))"
      ]
    },
    {
      "cell_type": "code",
      "execution_count": null,
      "metadata": {
        "colab": {
          "base_uri": "https://localhost:8080/"
        },
        "id": "n_oxYR2rUkfI",
        "outputId": "ab977ef2-0d43-41e5-b2fd-bafbe31dd541"
      },
      "outputs": [
        {
          "name": "stdout",
          "output_type": "stream",
          "text": [
            "[2, 3, 4]\n",
            "[4, 5, 6, 7, 8]\n",
            "[0, 1, 2]\n",
            "\n",
            "[0, 1, 4, 5, 6, 7, 8]\n",
            "\n",
            "[0, 1, 10, 11, 12, 4, 5, 6, 7, 8]\n"
          ]
        }
      ],
      "source": [
        "a = [0,1,2,3,4,5,6,7,8]\n",
        "\n",
        "print(a[2:5]) # [2,3,4]\n",
        "print(a[-5:]) # [4,5,6,7,8]\n",
        "print(a[:3]) # [0,1,2]\n",
        "\n",
        "print()\n",
        "# Deletion\n",
        "a = [0,1,2,3,4,5,6,7,8]\n",
        "del a[2:4] # [0,1,4,5,6,7,8]\n",
        "print(a)\n",
        "\n",
        "\n",
        "print()\n",
        "# Reassignment\n",
        "a = [0,1,2,3,4,5,6,7,8]\n",
        "a[2:4] = [10,11,12] # [0,1,10,11,12,4,5,6,7,8]\n",
        "print(a)"
      ]
    },
    {
      "cell_type": "code",
      "execution_count": null,
      "metadata": {
        "colab": {
          "base_uri": "https://localhost:8080/"
        },
        "id": "OHVTeti6Vxor",
        "outputId": "a4a83c3a-2296-4736-ca6d-8ed2b529e73f"
      },
      "outputs": [
        {
          "name": "stdout",
          "output_type": "stream",
          "text": [
            "[0, 2, 4]\n",
            "[8, 6, 4, 2, 0]\n",
            "[6, 5, 4, 3]\n"
          ]
        }
      ],
      "source": [
        "a = [0,1,2,3,4,5,6,7,8]\n",
        "\n",
        "print(a[0:5:2]) # [0,2,4]\n",
        "print(a[::-2]) # [8,6,4,2,0]\n",
        "print(a[6:2:-1]) # [6,5,4,3]"
      ]
    },
    {
      "cell_type": "code",
      "execution_count": null,
      "metadata": {
        "colab": {
          "base_uri": "https://localhost:8080/"
        },
        "id": "kjAI7NnHWSks",
        "outputId": "f9fa46bd-593a-4e3e-aa09-f74baf90097f"
      },
      "outputs": [
        {
          "name": "stdout",
          "output_type": "stream",
          "text": [
            "10\n",
            "1\n",
            "4\n",
            "r\n"
          ]
        }
      ],
      "source": [
        "\n",
        "s = [1, 2, 3, 4]\n",
        "print(sum(s))\n",
        "print(min(s))\n",
        "print(max(s))\n",
        "\n",
        "t = \"Hello World\"\n",
        "print(max(t))\n"
      ]
    },
    {
      "cell_type": "code",
      "source": [
        "range(100)"
      ],
      "metadata": {
        "colab": {
          "base_uri": "https://localhost:8080/"
        },
        "id": "J_1JSVJ8TVVP",
        "outputId": "701ae496-687f-4633-bffe-943afdd66c78"
      },
      "execution_count": null,
      "outputs": [
        {
          "output_type": "execute_result",
          "data": {
            "text/plain": [
              "range(0, 100)"
            ]
          },
          "metadata": {},
          "execution_count": 1
        }
      ]
    },
    {
      "cell_type": "code",
      "execution_count": null,
      "metadata": {
        "colab": {
          "base_uri": "https://localhost:8080/"
        },
        "id": "LzZcv4xrW5ST",
        "outputId": "d905a1ed-c902-42a4-f609-fcda04a8802d"
      },
      "outputs": [
        {
          "output_type": "stream",
          "name": "stdout",
          "text": [
            "0, 1, 2, 3, 4, 5, 6, 7, 8, 9, 10, 11, 12, 13, 14, 15, 16, 17, 18, 19, 20, 21, 22, 23, 24, 25, 26, 27, 28, 29, 30, 31, 32, 33, 34, 35, 36, 37, 38, 39, 40, 41, 42, 43, 44, 45, 46, 47, 48, 49, 50, 51, 52, 53, 54, 55, 56, 57, 58, 59, 60, 61, 62, 63, 64, 65, 66, 67, 68, 69, 70, 71, 72, 73, 74, 75, 76, 77, 78, 79, 80, 81, 82, 83, 84, 85, 86, 87, 88, 89, 90, 91, 92, 93, 94, 95, 96, 97, 98, 99, \n",
            "10, 11, 12, 13, 14, 15, 16, 17, 18, 19, \n",
            "10, 12, 14, 16, 18, 20, 22, 24, 26, 28, 30, 32, 34, 36, 38, 40, 42, 44, 46, 48, "
          ]
        }
      ],
      "source": [
        "for i in range(100):# i = 0,1,...,99\n",
        "  print(i, end=\", \")\n",
        "\n",
        "print()\n",
        "\n",
        "# start to end\n",
        "\n",
        "x = range(10, 20) # y = [10, 11,..., 19]\n",
        "\n",
        "y = range(10, 50, 2) # z = [10, 12,..., 48]\n",
        "\n",
        "for i in x:\n",
        "  print(i, end=\", \")\n",
        "\n",
        "print()\n",
        "\n",
        "for i in y:\n",
        "  print(i, end=\", \")\n"
      ]
    },
    {
      "cell_type": "code",
      "execution_count": null,
      "metadata": {
        "colab": {
          "base_uri": "https://localhost:8080/"
        },
        "id": "afiMgBp-YIu8",
        "outputId": "d6466a57-e9f4-49f4-eebd-db8e0c5f70fa"
      },
      "outputs": [
        {
          "name": "stdout",
          "output_type": "stream",
          "text": [
            " 1 - Elwood\n",
            " 2 - Jake\n",
            " 3 - Curtis\n",
            " 4 - Amelia\n",
            " 5 - Oscar\n",
            " 6 - Sophia\n",
            " 7 - Ethan\n",
            " 8 - Isabella\n",
            " 9 - Leo\n",
            "10 - Charlotte\n",
            "11 - Aiden\n",
            "12 - Ava\n",
            "13 - Lucas\n"
          ]
        }
      ],
      "source": [
        "names = ['Elwood', 'Jake', 'Curtis', 'Amelia', 'Oscar', \\\n",
        "         'Sophia', 'Ethan', 'Isabella', 'Leo', 'Charlotte', \\\n",
        "         'Aiden', 'Ava', 'Lucas']\n",
        "\n",
        "for i, name in enumerate(names, start=1):\n",
        "  print(f'{i:>2d}', \"-\", name)"
      ]
    },
    {
      "cell_type": "code",
      "execution_count": null,
      "metadata": {
        "colab": {
          "base_uri": "https://localhost:8080/"
        },
        "id": "HUZBg3SMZNwr",
        "outputId": "5c47774c-7d02-4422-b337-3440eb4701f3"
      },
      "outputs": [
        {
          "name": "stdout",
          "output_type": "stream",
          "text": [
            "1 4\n",
            "10 40\n",
            "23 14\n",
            "5 6\n",
            "7 8\n"
          ]
        }
      ],
      "source": [
        "#Looping with multiple iteration variables\n",
        "points = [(1, 4),(10, 40),(23, 14),(5, 6),(7, 8)]\n",
        "\n",
        "for x, y in points:\n",
        "  print(x,y)"
      ]
    },
    {
      "cell_type": "code",
      "execution_count": null,
      "metadata": {
        "colab": {
          "base_uri": "https://localhost:8080/"
        },
        "id": "sdDtL1SOZl_A",
        "outputId": "c6efa456-00c7-4c79-91fe-1709bdffd021"
      },
      "outputs": [
        {
          "name": "stdout",
          "output_type": "stream",
          "text": [
            "<zip object at 0x784a8b6c2f00>\n",
            "name = GOOG\n",
            "shares = 100\n",
            "price = 490.1\n",
            "{'name': 'GOOG', 'shares': 100, 'price': 490.1}\n",
            "name = GOOG\n",
            "shares = 100\n",
            "price = 490.1\n"
          ]
        }
      ],
      "source": [
        "#zip() function\n",
        "#Combines multiple sequences into tuples\n",
        "columns = ['name', 'shares', 'price']\n",
        "values = ['GOOG', 100, 490.1 ]\n",
        "pairs = zip(columns, values)# ('name','GOOG'), ('shares',100), ('price',490.1)\n",
        "print(pairs)\n",
        "\n",
        "#One use, looping over two sequences\n",
        "for column, value in pairs:\n",
        "  print(column, \"=\", value)\n",
        "\n",
        "#Another use: making dictionaries\n",
        "d = dict(zip(columns, values))\n",
        "print(d)\n",
        "\n",
        "for k in d:\n",
        "  print(k, \"=\", d[k])"
      ]
    },
    {
      "cell_type": "code",
      "execution_count": null,
      "metadata": {
        "colab": {
          "base_uri": "https://localhost:8080/"
        },
        "id": "oKnF0xJpbmwB",
        "outputId": "891efe6d-2587-4491-ded5-42259dd74eba"
      },
      "outputs": [
        {
          "name": "stdout",
          "output_type": "stream",
          "text": [
            "[2, 4, 6, 8, 10]\n",
            "['elwood', 'jake']\n"
          ]
        }
      ],
      "source": [
        "#A list comprehension creates a new list by applying an operation to each element of a sequence.\n",
        "a = [1, 2, 3, 4, 5]\n",
        "b = [2*x for x in a ]\n",
        "print(b)\n",
        "\n",
        "#Another example:\n",
        "names = ['Elwood', 'Jake']\n",
        "a = [name.lower() for name in names]\n",
        "print(a)"
      ]
    },
    {
      "cell_type": "code",
      "execution_count": null,
      "metadata": {
        "colab": {
          "base_uri": "https://localhost:8080/"
        },
        "id": "yTT0B09RcCbL",
        "outputId": "288b3758-0c2f-4d87-80aa-092032e3cb56"
      },
      "outputs": [
        {
          "name": "stdout",
          "output_type": "stream",
          "text": [
            "['AlphaTech', 'BetaCorp', 'GammaInc', 'DeltaLLC']\n",
            "[{'name': 'AlphaTech', 'price': 120, 'shares': 75}, {'name': 'GammaInc', 'price': 150, 'shares': 60}]\n",
            "30750\n"
          ]
        }
      ],
      "source": [
        "#List comprehensions are hugely useful\n",
        "\n",
        "\"\"\"\n",
        "#General syntax\n",
        "\n",
        "[expression for names in sequence if condition]\n",
        "\n",
        "#What it means\n",
        "\n",
        "result = []\n",
        "for names in sequence:\n",
        "  if condition:\n",
        "    result.append(expression)\n",
        "\"\"\"\n",
        "\n",
        "\"\"\"\n",
        "List comprehensions come from math\n",
        "a = [x*x for x in s if x > 0] # Python\n",
        "a = { 𝒙^𝟐 | x ∈ s, x > 0 } # Math\n",
        "\"\"\"\n",
        "\n",
        "stocks = [\n",
        "    {'name': 'AlphaTech', 'price': 120, 'shares': 75},\n",
        "    {'name': 'BetaCorp', 'price': 95, 'shares': 50},\n",
        "    {'name': 'GammaInc', 'price': 150, 'shares': 60},\n",
        "    {'name': 'DeltaLLC', 'price': 80, 'shares': 100}\n",
        "]\n",
        "\n",
        "#Collecting the values of a specific field\n",
        "stocknames = [s['name'] for s in stocks]\n",
        "\n",
        "#Performing database-like queries\n",
        "query = [s for s in stocks if s['price'] > 100 and s['shares'] > 50 ]\n",
        "\n",
        "#Data reductions over sequences\n",
        "cost = sum([s['shares']*s['price'] for s in stocks])\n",
        "\n",
        "print(stocknames)\n",
        "print(query)\n",
        "print(cost)"
      ]
    },
    {
      "cell_type": "code",
      "execution_count": null,
      "metadata": {
        "colab": {
          "base_uri": "https://localhost:8080/"
        },
        "id": "-MDr4Xr4fZ4b",
        "outputId": "8f2bf59e-301d-41a8-d9cd-55250b143705"
      },
      "outputs": [
        {
          "name": "stdout",
          "output_type": "stream",
          "text": [
            "True\n",
            "132261563559360 132261563559360\n",
            "[[1, 2, 3], [1, 2, 3]]\n",
            "[[1, 2, 3, 999], [1, 2, 3, 999]]\n",
            "[[1, 2, 3, 999], [1, 2, 3, 999]]\n",
            "[4, 5, 6]\n"
          ]
        }
      ],
      "source": [
        "a = [1,2,3]\n",
        "b = a\n",
        "\n",
        "print(a is b)\n",
        "print(id(a), id(b))\n",
        "\n",
        "c = [a,b]\n",
        "print(c)\n",
        "\n",
        "a.append(999)\n",
        "print(c)\n",
        "\n",
        "a = [4,5,6]\n",
        "print(c)\n",
        "print(a)"
      ]
    },
    {
      "cell_type": "code",
      "execution_count": null,
      "metadata": {
        "colab": {
          "base_uri": "https://localhost:8080/"
        },
        "id": "6c2HOk3TgKYY",
        "outputId": "1e576784-6eda-4702-ae18-beb7900c0dc9"
      },
      "outputs": [
        {
          "name": "stdout",
          "output_type": "stream",
          "text": [
            "False\n",
            "[[2, 3, [100, 101], 4, 999], [2, 3, [100, 101], 4]]\n",
            "[[2, 3, [100, 101, 102], 4, 999], [2, 3, [100, 101, 102], 4]]\n",
            "True\n"
          ]
        }
      ],
      "source": [
        "#Lists and dicts have methods for copying.\n",
        "a = [2,3,[100,101],4]\n",
        "b = list(a) # Make a copy\n",
        "a.append(999)\n",
        "\n",
        "print(a is b) #False\n",
        "\n",
        "c = [a,b]\n",
        "print(c)\n",
        "\n",
        "#It's a new list, but the list items are shared.\n",
        "\n",
        "a[2].append(102)\n",
        "b[2] #[100,101,102]\n",
        "print(c)\n",
        "\n",
        "print(a[2] is b[2]) #True"
      ]
    },
    {
      "cell_type": "code",
      "execution_count": null,
      "metadata": {
        "colab": {
          "base_uri": "https://localhost:8080/"
        },
        "id": "WMyBq3_vhFLN",
        "outputId": "288340f1-52af-40b6-f2bb-a11faaf54a4b"
      },
      "outputs": [
        {
          "name": "stdout",
          "output_type": "stream",
          "text": [
            "False\n",
            "False\n",
            "[[2, 3, [100, 101, 102], 4], [2, 3, [100, 101], 4]]\n"
          ]
        }
      ],
      "source": [
        "#Sometimes you need to make a copy of an object and all the objects contained within it.\n",
        "\n",
        "#Use the copy module for this:\n",
        "a = [2,3,[100,101],4]\n",
        "\n",
        "import copy\n",
        "\n",
        "b = copy.deepcopy(a)\n",
        "\n",
        "print(a is b) #False\n",
        "\n",
        "a[2].append(102)\n",
        "b[2]\n",
        "\n",
        "print(a is b) #False\n",
        "\n",
        "c = [a,b]\n",
        "print(c)\n"
      ]
    },
    {
      "cell_type": "code",
      "execution_count": null,
      "metadata": {
        "colab": {
          "base_uri": "https://localhost:8080/"
        },
        "id": "JUycVR67hnqD",
        "outputId": "6bbca298-54ab-4bbb-e8ca-163954ebe1a0"
      },
      "outputs": [
        {
          "name": "stdout",
          "output_type": "stream",
          "text": [
            "a is a list\n",
            "a is a list or tuple\n"
          ]
        }
      ],
      "source": [
        "#How to tell if an object is a specific type.\n",
        "if isinstance(a, list):\n",
        "  print('a is a list')\n",
        "\n",
        "#Checking for one of many possible types.\n",
        "if isinstance(a, (list,tuple)):\n",
        "  print('a is a list or tuple')"
      ]
    },
    {
      "cell_type": "code",
      "execution_count": null,
      "metadata": {
        "id": "0RiTcYpwiZvU"
      },
      "outputs": [],
      "source": [
        "import csv\n",
        "#docs string\n",
        "\n",
        "def read_prices(filename):\n",
        "  '''Read prices from a CSV file of name,price data'''\n",
        "  prices = {}\n",
        "  with open(filename) as f:\n",
        "    f_csv = csv.reader(f)\n",
        "    for row in f_csv:prices[row[0]] = float(row[1])\n",
        "    return prices"
      ]
    },
    {
      "cell_type": "code",
      "execution_count": null,
      "metadata": {
        "colab": {
          "base_uri": "https://localhost:8080/"
        },
        "id": "tlCwT4Lzityr",
        "outputId": "3efddc5f-14b5-4998-e5a5-d8f1e91e9dba"
      },
      "outputs": [
        {
          "name": "stdout",
          "output_type": "stream",
          "text": [
            "7 2\n"
          ]
        }
      ],
      "source": [
        "#multiple return\n",
        "\n",
        "def divide(a,b):\n",
        "  q = a // b # Quotient\n",
        "  r = a % b # Remainder\n",
        "  return q, r # Return a tuple\n",
        "\n",
        "#Usage example:\n",
        "x, y = divide(37,5) # x = 7, y = 2\n",
        "print(x,y)\n",
        "\n",
        "#x = divide(37, 5) # x = (7, 2)"
      ]
    },
    {
      "cell_type": "code",
      "execution_count": null,
      "metadata": {
        "colab": {
          "base_uri": "https://localhost:8080/"
        },
        "id": "Z_PviUg0juOI",
        "outputId": "9067f1b7-ffb4-4efe-9a65-47a4b7693761"
      },
      "outputs": [
        {
          "name": "stdout",
          "output_type": "stream",
          "text": [
            "Dave\n"
          ]
        }
      ],
      "source": [
        "name = 'Dave'\n",
        "\n",
        "def spam():\n",
        "  name = 'Guido'\n",
        "\n",
        "spam()\n",
        "\n",
        "print(name) #dave"
      ]
    },
    {
      "cell_type": "code",
      "execution_count": null,
      "metadata": {
        "colab": {
          "base_uri": "https://localhost:8080/"
        },
        "id": "Bhmnrwf_jYv8",
        "outputId": "d5dd4ac1-0add-4fc0-fcca-1abf24b1e3e1"
      },
      "outputs": [
        {
          "name": "stdout",
          "output_type": "stream",
          "text": [
            "Guido\n"
          ]
        }
      ],
      "source": [
        "name = 'Dave'\n",
        "\n",
        "def spam():\n",
        "  global name\n",
        "  name = 'Guido' # Changes the global name above\n",
        "\n",
        "spam()\n",
        "\n",
        "print(name)"
      ]
    },
    {
      "cell_type": "markdown",
      "metadata": {
        "id": "_2bCFqWSjtTC"
      },
      "source": []
    },
    {
      "cell_type": "code",
      "execution_count": null,
      "metadata": {
        "colab": {
          "base_uri": "https://localhost:8080/"
        },
        "id": "aV-NS3TGj0vy",
        "outputId": "00cd58bc-a52d-4bb0-fe97-47f3e3c71a31"
      },
      "outputs": [
        {
          "name": "stdout",
          "output_type": "stream",
          "text": [
            "[1, 2, 3, 42]\n"
          ]
        }
      ],
      "source": [
        "#If mutable data types are passed (e.g. lists, dicts), they can be modified in-place.\n",
        "a = [1,2,3]\n",
        "\n",
        "def foo(items):\n",
        "  items.append(42) # Modifies the input objecta = [1, 2, 3]\n",
        "\n",
        "\n",
        "foo(a)\n",
        "print(a) # [1, 2, 3, 42]"
      ]
    },
    {
      "cell_type": "code",
      "execution_count": null,
      "metadata": {
        "colab": {
          "base_uri": "https://localhost:8080/"
        },
        "id": "GCNdWA-Hkf0Z",
        "outputId": "38c073a0-1a58-495b-fca0-1a8a15502893"
      },
      "outputs": [
        {
          "output_type": "stream",
          "name": "stdout",
          "text": [
            "7 HelloWorld 34\n"
          ]
        }
      ],
      "source": [
        "def add(x, y):\n",
        "  return x + y\n",
        "\n",
        "a = add(3, 4) # 7\n",
        "b = add('Hello', 'World') # 'HelloWorld'\n",
        "c = add('3', '4') # '34'\n",
        "\n",
        "print(a, b, c)"
      ]
    },
    {
      "cell_type": "code",
      "execution_count": null,
      "metadata": {
        "colab": {
          "background_save": true
        },
        "id": "j0emEXS7klpH"
      },
      "outputs": [],
      "source": [
        "#These are the methods to implement containers.\n",
        "\n",
        "len(x)      #x.__len__()\n",
        "x[a]        #x.__getitem__(a)\n",
        "x[a] = v    #x.__setitem__(a,v)\n",
        "del x[a]    #x.__delitem__(a)"
      ]
    },
    {
      "cell_type": "code",
      "source": [
        "class Date(object):\n",
        "    def __init__(self, year, month, day):\n",
        "        self.year = year\n",
        "        self.month = month\n",
        "        self.day = day\n",
        "\n",
        "    # Used with `str()`\n",
        "    def __str__(self):\n",
        "        return f'{self.year}-{self.month}-{self.day}'\n",
        "\n",
        "    # Used with `repr()`\n",
        "    def __repr__(self):\n",
        "        return f'Date({self.year},{self.month},{self.day})'"
      ],
      "metadata": {
        "id": "4ND43NGEzp8s"
      },
      "execution_count": null,
      "outputs": []
    },
    {
      "cell_type": "code",
      "source": [
        "class A(object):\n",
        "    def yow(self):\n",
        "        print('Yow!')\n",
        "\n",
        "class B(A):\n",
        "    def spam(self):\n",
        "        self.yow()\n",
        "\n",
        "b = B()\n",
        "b.spam()\n",
        "# B->A->object\n",
        "\n",
        "class C(A):\n",
        "    def yow(self):\n",
        "        print('Yowzer!!')\n",
        "\n",
        "class D(B,C):\n",
        "    pass\n",
        "\n",
        "d = D()\n",
        "d.spam()\n",
        "# D->B->C->A->object\n",
        "\n",
        "D.__mro__\n",
        "\n",
        "class E(B,C):\n",
        "  def foo(self):\n",
        "    return super().spam()\n",
        "\n",
        "e = E()\n",
        "e.foo()\n",
        "E.__mro__"
      ],
      "metadata": {
        "colab": {
          "base_uri": "https://localhost:8080/"
        },
        "id": "BtFD_k2szzzj",
        "outputId": "63744136-c622-4448-8775-f54bf518740b"
      },
      "execution_count": null,
      "outputs": [
        {
          "output_type": "stream",
          "name": "stdout",
          "text": [
            "Yow!\n",
            "Yowzer!!\n",
            "Yowzer!!\n"
          ]
        },
        {
          "output_type": "execute_result",
          "data": {
            "text/plain": [
              "(__main__.E, __main__.B, __main__.C, __main__.A, object)"
            ]
          },
          "metadata": {},
          "execution_count": 281
        }
      ]
    },
    {
      "cell_type": "code",
      "source": [
        "class Stock:\n",
        "    def __init__(self, name, shares, price):\n",
        "        self.name = name\n",
        "        self.shares = shares\n",
        "        self.price = price\n",
        "\n",
        "    @property\n",
        "    def shares(self):\n",
        "        return self._shares\n",
        "\n",
        "    @shares.setter\n",
        "    def shares(self, value):\n",
        "        if not isinstance(value, int):\n",
        "            raise TypeError('Expected int')\n",
        "        self._shares = value\n",
        "\n",
        "s = Stock(\"GOOGL\", 50, 423.4)\n",
        "print(s.shares)\n",
        "s.shares = 78\n",
        "print(s.shares)"
      ],
      "metadata": {
        "colab": {
          "base_uri": "https://localhost:8080/"
        },
        "id": "ivQqs3vXGykO",
        "outputId": "f38aeaee-590d-4c73-83e4-802b392ada7d"
      },
      "execution_count": null,
      "outputs": [
        {
          "output_type": "stream",
          "name": "stdout",
          "text": [
            "50\n",
            "78\n"
          ]
        }
      ]
    },
    {
      "cell_type": "code",
      "source": [
        "import math\n",
        "\n",
        "class Shape():\n",
        "    __slots__ = \"_a\", \"b\", \"r\", \"name\"\n",
        "\n",
        "    def __init__(self,a,b=-1):\n",
        "        self._a=a\n",
        "        self.b=b\n",
        "\n",
        "    def area(self):\n",
        "        return self.a*self.b\n",
        "\n",
        "    @property\n",
        "    def perimeter(self):\n",
        "        return self.a+self.b\n",
        "\n",
        "    @property\n",
        "    def a(self):\n",
        "        return self._a\n",
        "\n",
        "    @a.setter\n",
        "    def a(self, value):\n",
        "        if not isinstance(value, (int)):\n",
        "            raise TypeError(\"Please use an integer value for a\")\n",
        "        self._a = value\n",
        "\n",
        "class Circle(Shape):\n",
        "    def _init_(self,r):\n",
        "        super().__init__(r)\n",
        "\n",
        "    def area(self):\n",
        "        return math.pi * self.r ** 2\n",
        "\n",
        "    @property\n",
        "    def perimeter(self):\n",
        "        return 2*3*self.r\n",
        "\n",
        "class Square(Shape):\n",
        "        pass\n",
        "\n",
        "\n",
        "# Create an instance of the Shape class and test\n",
        "shape_instance = Shape(a=3, b=4)\n",
        "print(\"Shape Area:\", shape_instance.area())\n",
        "print(\"Shape Perimeter:\", shape_instance.perimeter)\n",
        "\n",
        "# Create instances of the Circle and Square classes and test\n",
        "circle_instance = Circle(5)\n",
        "print(\"Circle Area:\", circle_instance.area())\n",
        "print(\"Circle Perimeter:\", circle_instance.perimeter)\n",
        "\n",
        "square_instance = Square(a=6)\n",
        "print(\"Square Area:\", square_instance.area())\n",
        "print(\"Square Perimeter:\", square_instance.perimeter)\n",
        "\n",
        "# Test setter and getter for the 'a' attribute\n",
        "try:\n",
        "    shape_instance.deneme = \"invalid\"\n",
        "except AttributeError as e:\n",
        "    print(e)\n",
        "\n",
        "try:\n",
        "    shape_instance.name = \"Şekil\"\n",
        "    print(\"Updated name value:\", shape_instance.name)\n",
        "except AttributeError as e:\n",
        "    print(e)\n"
      ],
      "metadata": {
        "colab": {
          "base_uri": "https://localhost:8080/",
          "height": 411
        },
        "id": "1KsNDzLUH_Vf",
        "outputId": "82d642cd-0926-4a0d-b1e1-9c1c48d80d50"
      },
      "execution_count": null,
      "outputs": [
        {
          "output_type": "stream",
          "name": "stdout",
          "text": [
            "Shape Area: 12\n",
            "Shape Perimeter: 7\n"
          ]
        },
        {
          "output_type": "error",
          "ename": "AttributeError",
          "evalue": "'Circle' object has no attribute 'r'",
          "traceback": [
            "\u001b[0;31m---------------------------------------------------------------------------\u001b[0m",
            "\u001b[0;31mAttributeError\u001b[0m                            Traceback (most recent call last)",
            "\u001b[0;32m<ipython-input-16-06c5311f74b4>\u001b[0m in \u001b[0;36m<cell line: 49>\u001b[0;34m()\u001b[0m\n\u001b[1;32m     47\u001b[0m \u001b[0;31m# Create instances of the Circle and Square classes and test\u001b[0m\u001b[0;34m\u001b[0m\u001b[0;34m\u001b[0m\u001b[0m\n\u001b[1;32m     48\u001b[0m \u001b[0mcircle_instance\u001b[0m \u001b[0;34m=\u001b[0m \u001b[0mCircle\u001b[0m\u001b[0;34m(\u001b[0m\u001b[0;36m5\u001b[0m\u001b[0;34m)\u001b[0m\u001b[0;34m\u001b[0m\u001b[0;34m\u001b[0m\u001b[0m\n\u001b[0;32m---> 49\u001b[0;31m \u001b[0mprint\u001b[0m\u001b[0;34m(\u001b[0m\u001b[0;34m\"Circle Area:\"\u001b[0m\u001b[0;34m,\u001b[0m \u001b[0mcircle_instance\u001b[0m\u001b[0;34m.\u001b[0m\u001b[0marea\u001b[0m\u001b[0;34m(\u001b[0m\u001b[0;34m)\u001b[0m\u001b[0;34m)\u001b[0m\u001b[0;34m\u001b[0m\u001b[0;34m\u001b[0m\u001b[0m\n\u001b[0m\u001b[1;32m     50\u001b[0m \u001b[0mprint\u001b[0m\u001b[0;34m(\u001b[0m\u001b[0;34m\"Circle Perimeter:\"\u001b[0m\u001b[0;34m,\u001b[0m \u001b[0mcircle_instance\u001b[0m\u001b[0;34m.\u001b[0m\u001b[0mperimeter\u001b[0m\u001b[0;34m)\u001b[0m\u001b[0;34m\u001b[0m\u001b[0;34m\u001b[0m\u001b[0m\n\u001b[1;32m     51\u001b[0m \u001b[0;34m\u001b[0m\u001b[0m\n",
            "\u001b[0;32m<ipython-input-16-06c5311f74b4>\u001b[0m in \u001b[0;36marea\u001b[0;34m(self)\u001b[0m\n\u001b[1;32m     30\u001b[0m \u001b[0;34m\u001b[0m\u001b[0m\n\u001b[1;32m     31\u001b[0m     \u001b[0;32mdef\u001b[0m \u001b[0marea\u001b[0m\u001b[0;34m(\u001b[0m\u001b[0mself\u001b[0m\u001b[0;34m)\u001b[0m\u001b[0;34m:\u001b[0m\u001b[0;34m\u001b[0m\u001b[0;34m\u001b[0m\u001b[0m\n\u001b[0;32m---> 32\u001b[0;31m         \u001b[0;32mreturn\u001b[0m \u001b[0mmath\u001b[0m\u001b[0;34m.\u001b[0m\u001b[0mpi\u001b[0m \u001b[0;34m*\u001b[0m \u001b[0mself\u001b[0m\u001b[0;34m.\u001b[0m\u001b[0mr\u001b[0m \u001b[0;34m**\u001b[0m \u001b[0;36m2\u001b[0m\u001b[0;34m\u001b[0m\u001b[0;34m\u001b[0m\u001b[0m\n\u001b[0m\u001b[1;32m     33\u001b[0m \u001b[0;34m\u001b[0m\u001b[0m\n\u001b[1;32m     34\u001b[0m     \u001b[0;34m@\u001b[0m\u001b[0mproperty\u001b[0m\u001b[0;34m\u001b[0m\u001b[0;34m\u001b[0m\u001b[0m\n",
            "\u001b[0;31mAttributeError\u001b[0m: 'Circle' object has no attribute 'r'"
          ]
        }
      ]
    },
    {
      "cell_type": "code",
      "source": [
        "x = [1,2,3]\n",
        "it = x.__iter__()\n",
        "it.__next__()"
      ],
      "metadata": {
        "colab": {
          "base_uri": "https://localhost:8080/"
        },
        "id": "eMWmD120LoZx",
        "outputId": "88121d91-b2c7-4f2c-b7c8-3196b84a09b6"
      },
      "execution_count": null,
      "outputs": [
        {
          "output_type": "execute_result",
          "data": {
            "text/plain": [
              "1"
            ]
          },
          "metadata": {},
          "execution_count": 22
        }
      ]
    },
    {
      "cell_type": "code",
      "source": [
        "it.__next__()"
      ],
      "metadata": {
        "colab": {
          "base_uri": "https://localhost:8080/"
        },
        "id": "XDJWF8hRPb12",
        "outputId": "96b702a5-44cf-4c0a-91eb-5d3d702b3eb4"
      },
      "execution_count": null,
      "outputs": [
        {
          "output_type": "execute_result",
          "data": {
            "text/plain": [
              "2"
            ]
          },
          "metadata": {},
          "execution_count": 23
        }
      ]
    },
    {
      "cell_type": "code",
      "source": [
        "it.__next__()"
      ],
      "metadata": {
        "colab": {
          "base_uri": "https://localhost:8080/"
        },
        "id": "Y8BGKTqxPdVj",
        "outputId": "16410848-f151-4a39-91b6-ea09c1ab099d"
      },
      "execution_count": null,
      "outputs": [
        {
          "output_type": "execute_result",
          "data": {
            "text/plain": [
              "3"
            ]
          },
          "metadata": {},
          "execution_count": 24
        }
      ]
    },
    {
      "cell_type": "code",
      "source": [],
      "metadata": {
        "id": "VSeNEoI-RN4r"
      },
      "execution_count": null,
      "outputs": []
    }
  ],
  "metadata": {
    "colab": {
      "provenance": [],
      "include_colab_link": true
    },
    "kernelspec": {
      "display_name": "Python 3",
      "name": "python3"
    },
    "language_info": {
      "name": "python"
    }
  },
  "nbformat": 4,
  "nbformat_minor": 0
}